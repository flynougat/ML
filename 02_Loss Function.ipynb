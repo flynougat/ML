{
 "cells": [
  {
   "cell_type": "code",
   "execution_count": 1,
   "id": "5cbf6ba1",
   "metadata": {},
   "outputs": [],
   "source": [
    "import torch\n",
    "import torch.nn as nn"
   ]
  },
  {
   "cell_type": "code",
   "execution_count": 2,
   "id": "19cbbd08",
   "metadata": {},
   "outputs": [],
   "source": [
    "prediction = torch.randn(4,5)"
   ]
  },
  {
   "cell_type": "code",
   "execution_count": 3,
   "id": "d2881ad7",
   "metadata": {},
   "outputs": [],
   "source": [
    "label = torch.randn(4,5)"
   ]
  },
  {
   "cell_type": "code",
   "execution_count": 6,
   "id": "6a83aa5d",
   "metadata": {},
   "outputs": [],
   "source": [
    "#use MSELoss mean square\n",
    "mse = nn.MSELoss(reduction = 'mean')\n",
    "#this is equivilent to ((prediction - label)**2).mean()"
   ]
  },
  {
   "cell_type": "code",
   "execution_count": 7,
   "id": "1e1ce635",
   "metadata": {},
   "outputs": [
    {
     "name": "stdout",
     "output_type": "stream",
     "text": [
      "tensor(2.3517)\n"
     ]
    }
   ],
   "source": [
    "loss = mse(prediction, label)\n",
    "print(loss)"
   ]
  },
  {
   "cell_type": "code",
   "execution_count": 8,
   "id": "430f9015",
   "metadata": {},
   "outputs": [
    {
     "name": "stdout",
     "output_type": "stream",
     "text": [
      "tensor([[0., 0., 1., 0., 0.],\n",
      "        [0., 0., 0., 0., 0.],\n",
      "        [1., 1., 0., 0., 1.],\n",
      "        [0., 0., 1., 0., 1.]])\n"
     ]
    }
   ],
   "source": [
    "#use BCELoss Creates a criterion that measures the Binary Cross Entropy between the target and the output\n",
    "label = torch.zeros(4,5).random_(0,2)\n",
    "print(label)"
   ]
  },
  {
   "cell_type": "code",
   "execution_count": 9,
   "id": "d8c71112",
   "metadata": {},
   "outputs": [],
   "source": [
    "sigmoid = nn.Sigmoid()\n",
    "bce = nn.BCELoss(reduction = 'mean')"
   ]
  },
  {
   "cell_type": "code",
   "execution_count": 10,
   "id": "47f2429c",
   "metadata": {},
   "outputs": [
    {
     "data": {
      "text/plain": [
       "tensor(0.8974)"
      ]
     },
     "execution_count": 10,
     "metadata": {},
     "output_type": "execute_result"
    }
   ],
   "source": [
    "bce(sigmoid(prediction), label)"
   ]
  },
  {
   "cell_type": "code",
   "execution_count": 11,
   "id": "38c83b6a",
   "metadata": {},
   "outputs": [],
   "source": [
    "#another method\n",
    "bces = bce = nn.BCEWithLogitsLoss(reduction = 'mean')"
   ]
  },
  {
   "cell_type": "code",
   "execution_count": 12,
   "id": "726bcbc7",
   "metadata": {},
   "outputs": [
    {
     "data": {
      "text/plain": [
       "tensor(0.8974)"
      ]
     },
     "execution_count": 12,
     "metadata": {},
     "output_type": "execute_result"
    }
   ],
   "source": [
    "bce(prediction, label)"
   ]
  },
  {
   "cell_type": "code",
   "execution_count": 15,
   "id": "24a7aba6",
   "metadata": {},
   "outputs": [],
   "source": [
    "import numpy as np\n",
    "x = prediction.numpy()\n",
    "y = label.numpy()"
   ]
  },
  {
   "cell_type": "code",
   "execution_count": 20,
   "id": "a69ef9a7",
   "metadata": {},
   "outputs": [],
   "source": [
    "#convert to sigmoid\n",
    "def sigmoid(x):\n",
    "    return 1/(1 + np.exp(-x))"
   ]
  },
  {
   "cell_type": "code",
   "execution_count": 22,
   "id": "9508edca",
   "metadata": {},
   "outputs": [],
   "source": [
    "sigmoid(x)"
   ]
  },
  {
   "cell_type": "code",
   "execution_count": 26,
   "id": "c1573b7f",
   "metadata": {},
   "outputs": [
    {
     "name": "stdout",
     "output_type": "stream",
     "text": [
      "0.8563246424889039\n"
     ]
    }
   ],
   "source": [
    "x = sigmoid(x)\n",
    "loss_values = []\n",
    "for i in range(len(y)):\n",
    "    batch_loss = []\n",
    "    for j in range(len(y[0])):\n",
    "        if y[i][j] == 1:\n",
    "            loss = -np.log(x[i][j])\n",
    "        else:\n",
    "            loss = -np.log(1-x[i][j])\n",
    "        batch_loss.append(loss)\n",
    "    loss_values.append(batch_loss)\n",
    "    \n",
    "print(np.mean(loss_values))"
   ]
  },
  {
   "cell_type": "code",
   "execution_count": null,
   "id": "cf6d3366",
   "metadata": {},
   "outputs": [],
   "source": [
    "#simplify the above\n",
    "# batch_loss.append(-np.log(x[i][j]) if y[i][j] == 1 else -np.log(1-x[i][j]))"
   ]
  }
 ],
 "metadata": {
  "kernelspec": {
   "display_name": "Python 3",
   "language": "python",
   "name": "python3"
  },
  "language_info": {
   "codemirror_mode": {
    "name": "ipython",
    "version": 3
   },
   "file_extension": ".py",
   "mimetype": "text/x-python",
   "name": "python",
   "nbconvert_exporter": "python",
   "pygments_lexer": "ipython3",
   "version": "3.9.5"
  }
 },
 "nbformat": 4,
 "nbformat_minor": 5
}
