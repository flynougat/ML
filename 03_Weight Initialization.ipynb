{
 "cells": [
  {
   "cell_type": "code",
   "execution_count": 1,
   "id": "d63f4d7f",
   "metadata": {},
   "outputs": [],
   "source": [
    "import torch\n",
    "import torch.nn as nn"
   ]
  },
  {
   "cell_type": "code",
   "execution_count": 2,
   "id": "0d8166e8",
   "metadata": {},
   "outputs": [],
   "source": [
    "layer = nn.Linear(5,5)"
   ]
  },
  {
   "cell_type": "code",
   "execution_count": 4,
   "id": "3465e477",
   "metadata": {},
   "outputs": [
    {
     "data": {
      "text/plain": [
       "tensor([[-0.0888,  0.3282, -0.3794,  0.0686, -0.1051],\n",
       "        [-0.1203,  0.2929, -0.2788,  0.3856,  0.2305],\n",
       "        [-0.0089, -0.0147, -0.1996, -0.0761,  0.1752],\n",
       "        [ 0.1478, -0.1916,  0.2793,  0.3563,  0.3904],\n",
       "        [-0.1817,  0.1955, -0.1993, -0.0479, -0.1956]])"
      ]
     },
     "execution_count": 4,
     "metadata": {},
     "output_type": "execute_result"
    }
   ],
   "source": [
    "layer.weight.data"
   ]
  },
  {
   "cell_type": "code",
   "execution_count": 6,
   "id": "38b85a7b",
   "metadata": {
    "scrolled": true
   },
   "outputs": [
    {
     "data": {
      "text/plain": [
       "Parameter containing:\n",
       "tensor([[2.4338, 1.2873, 2.4032, 1.1603, 2.5707],\n",
       "        [0.1562, 1.5276, 0.5545, 1.0950, 2.0847],\n",
       "        [0.9376, 1.6683, 1.9920, 0.0425, 0.2635],\n",
       "        [0.9497, 1.6827, 1.7198, 0.3852, 1.1586],\n",
       "        [1.6971, 1.7008, 1.1033, 0.2779, 0.0305]], requires_grad=True)"
      ]
     },
     "execution_count": 6,
     "metadata": {},
     "output_type": "execute_result"
    }
   ],
   "source": [
    "#uniform distribution\n",
    "#(tensor, a is min, b is max)\n",
    "nn.init.uniform_(layer.weight, a=0.0, b=3)"
   ]
  },
  {
   "cell_type": "code",
   "execution_count": 7,
   "id": "8d936faf",
   "metadata": {
    "scrolled": true
   },
   "outputs": [
    {
     "data": {
      "text/plain": [
       "Parameter containing:\n",
       "tensor([[-0.3808,  0.6306,  0.0491, -0.1978,  0.2614],\n",
       "        [-0.5568, -0.0219, -0.6416, -0.7672, -0.2513],\n",
       "        [-0.4382,  0.2078,  0.8395, -0.3327,  0.5288],\n",
       "        [ 0.4157,  0.2764,  0.1136,  0.7683, -0.1049],\n",
       "        [-0.1920, -0.1702, -0.0754, -0.4851, -0.8333]], requires_grad=True)"
      ]
     },
     "execution_count": 7,
     "metadata": {},
     "output_type": "execute_result"
    }
   ],
   "source": [
    "#normal distribution\n",
    "#(tensor, mean, std)\n",
    "nn.init.normal_(layer.weight, mean=0.0, std=0.5)"
   ]
  },
  {
   "cell_type": "code",
   "execution_count": 8,
   "id": "0c32b49b",
   "metadata": {
    "scrolled": true
   },
   "outputs": [
    {
     "data": {
      "text/plain": [
       "Parameter containing:\n",
       "tensor([0., 0., 0., 0., 0.], requires_grad=True)"
      ]
     },
     "execution_count": 8,
     "metadata": {},
     "output_type": "execute_result"
    }
   ],
   "source": [
    "#initial weight to same value is bad, but usefult to set bias\n",
    "nn.init.constant_(layer.bias, 0)"
   ]
  },
  {
   "cell_type": "code",
   "execution_count": 9,
   "id": "00164758",
   "metadata": {},
   "outputs": [
    {
     "data": {
      "text/plain": [
       "Parameter containing:\n",
       "tensor([[-0.1357,  0.3773, -0.1733,  0.3408, -0.2389],\n",
       "        [-0.1007, -0.6984,  0.5085, -0.6718,  0.7643],\n",
       "        [ 0.6508, -0.4674,  0.7485,  0.6875, -0.6609],\n",
       "        [ 0.4875, -0.7619, -0.4741, -0.5186, -0.2062],\n",
       "        [-0.1188,  0.1270,  0.5629,  0.6645,  0.4466]], requires_grad=True)"
      ]
     },
     "execution_count": 9,
     "metadata": {},
     "output_type": "execute_result"
    }
   ],
   "source": [
    "#xavier uniform distribution\n",
    "#(tensor, gain)\n",
    "nn.init.xavier_uniform_(layer.weight, gain = 1)"
   ]
  }
 ],
 "metadata": {
  "kernelspec": {
   "display_name": "Python 3",
   "language": "python",
   "name": "python3"
  },
  "language_info": {
   "codemirror_mode": {
    "name": "ipython",
    "version": 3
   },
   "file_extension": ".py",
   "mimetype": "text/x-python",
   "name": "python",
   "nbconvert_exporter": "python",
   "pygments_lexer": "ipython3",
   "version": "3.9.5"
  }
 },
 "nbformat": 4,
 "nbformat_minor": 5
}
