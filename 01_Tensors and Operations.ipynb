{
 "cells": [
  {
   "cell_type": "code",
   "execution_count": 2,
   "id": "9c1c6b45",
   "metadata": {},
   "outputs": [],
   "source": [
    "import torch"
   ]
  },
  {
   "cell_type": "code",
   "execution_count": 3,
   "id": "4f7e2264",
   "metadata": {},
   "outputs": [
    {
     "name": "stdout",
     "output_type": "stream",
     "text": [
      "True\n"
     ]
    }
   ],
   "source": [
    "print(torch.cuda.is_available())"
   ]
  },
  {
   "cell_type": "markdown",
   "id": "29286997",
   "metadata": {},
   "source": [
    "# Torch Tensor"
   ]
  },
  {
   "cell_type": "code",
   "execution_count": 4,
   "id": "0bd0ba1c",
   "metadata": {},
   "outputs": [
    {
     "name": "stdout",
     "output_type": "stream",
     "text": [
      "tensor([2, 2, 1])\n"
     ]
    }
   ],
   "source": [
    "#a 1-D Tensor\n",
    "a = torch.tensor([2,2,1])\n",
    "print(a)"
   ]
  },
  {
   "cell_type": "code",
   "execution_count": 5,
   "id": "7efd6454",
   "metadata": {},
   "outputs": [
    {
     "name": "stdout",
     "output_type": "stream",
     "text": [
      "tensor([[2, 1, 4],\n",
      "        [3, 5, 4],\n",
      "        [1, 2, 0],\n",
      "        [4, 3, 2]])\n"
     ]
    }
   ],
   "source": [
    "#a 2-D Tensor\n",
    "b = torch.tensor([[2,1,4],[3,5,4],[1,2,0],[4,3,2]])\n",
    "print(b)"
   ]
  },
  {
   "cell_type": "code",
   "execution_count": 6,
   "id": "5887c087",
   "metadata": {},
   "outputs": [
    {
     "name": "stdout",
     "output_type": "stream",
     "text": [
      "torch.Size([3])\n",
      "torch.Size([4, 3])\n",
      "torch.Size([3])\n",
      "torch.Size([4, 3])\n"
     ]
    }
   ],
   "source": [
    "#The size of the tensors\n",
    "print(a.shape)\n",
    "print(b.shape)\n",
    "print(a.size())\n",
    "print(b.size())"
   ]
  },
  {
   "cell_type": "code",
   "execution_count": 7,
   "id": "6519415f",
   "metadata": {},
   "outputs": [
    {
     "name": "stdout",
     "output_type": "stream",
     "text": [
      "4\n"
     ]
    }
   ],
   "source": [
    "#Get the height/number of rows of b\n",
    "print(b.shape[0])"
   ]
  },
  {
   "cell_type": "code",
   "execution_count": 8,
   "id": "688bfc0c",
   "metadata": {},
   "outputs": [],
   "source": [
    "c = torch.FloatTensor([[2,1,4],[3,5,4],[1,2,0],[4,3,2]])\n",
    "#or we can do\n",
    "#c = torch.tensor([2,2,1], dtype = torch.float)"
   ]
  },
  {
   "cell_type": "code",
   "execution_count": 9,
   "id": "073a1496",
   "metadata": {},
   "outputs": [],
   "source": [
    "d = torch.DoubleTensor([[2,1,4],[3,5,4],[1,2,0],[4,3,2]])\n",
    "#or we can do\n",
    "#d = torch.tensor([2,2,1], dtype = torch.double)"
   ]
  },
  {
   "cell_type": "code",
   "execution_count": 10,
   "id": "b9731b7f",
   "metadata": {},
   "outputs": [
    {
     "name": "stdout",
     "output_type": "stream",
     "text": [
      "tensor(2.5833)\n",
      "tensor(2.5833, dtype=torch.float64)\n",
      "tensor(1.5050)\n",
      "tensor(1.5050, dtype=torch.float64)\n"
     ]
    }
   ],
   "source": [
    "print(c.mean())\n",
    "print(d.mean())\n",
    "print(c.std())\n",
    "print(d.std())"
   ]
  },
  {
   "cell_type": "code",
   "execution_count": 11,
   "id": "665fe62e",
   "metadata": {},
   "outputs": [
    {
     "name": "stdout",
     "output_type": "stream",
     "text": [
      "tensor([[2],\n",
      "        [1],\n",
      "        [4],\n",
      "        [3],\n",
      "        [5],\n",
      "        [4],\n",
      "        [1],\n",
      "        [2],\n",
      "        [0],\n",
      "        [4],\n",
      "        [3],\n",
      "        [2]])\n",
      "tensor([2, 1, 4, 3, 5, 4, 1, 2, 0, 4, 3, 2])\n",
      "tensor([[2, 1, 4, 3],\n",
      "        [5, 4, 1, 2],\n",
      "        [0, 4, 3, 2]])\n",
      "tensor([[2, 1, 4, 3],\n",
      "        [5, 4, 1, 2],\n",
      "        [0, 4, 3, 2]])\n",
      "tensor([[2, 1, 4, 3, 5, 4, 1, 2, 0, 4, 3, 2]])\n",
      "torch.Size([1, 12])\n",
      "\n",
      "\n",
      "\n",
      "\n",
      "tensor([[[-0.2518,  0.8527, -1.2990,  0.4185],\n",
      "         [ 0.4029,  0.6257,  0.7812, -0.0944],\n",
      "         [ 0.4710, -0.7540, -0.9044,  0.9292]],\n",
      "\n",
      "        [[ 1.2673,  1.3341,  0.5795, -0.6090],\n",
      "         [ 1.2232,  0.2181,  0.7280, -0.3801],\n",
      "         [-0.9091, -0.0421, -0.3124, -1.5690]]])\n",
      "tensor([[-0.2518,  0.8527, -1.2990,  0.4185,  0.4029,  0.6257,  0.7812, -0.0944,\n",
      "          0.4710, -0.7540, -0.9044,  0.9292],\n",
      "        [ 1.2673,  1.3341,  0.5795, -0.6090,  1.2232,  0.2181,  0.7280, -0.3801,\n",
      "         -0.9091, -0.0421, -0.3124, -1.5690]])\n",
      "tensor([[-0.2518,  0.8527, -1.2990,  0.4185,  0.4029,  0.6257,  0.7812, -0.0944,\n",
      "          0.4710, -0.7540, -0.9044,  0.9292],\n",
      "        [ 1.2673,  1.3341,  0.5795, -0.6090,  1.2232,  0.2181,  0.7280, -0.3801,\n",
      "         -0.9091, -0.0421, -0.3124, -1.5690]])\n"
     ]
    }
   ],
   "source": [
    "#Reshape b\n",
    "#Note: If one of the dimensions is -1, its size can be inferred\n",
    "print(b.view(-1,1))\n",
    "print(b.view(12))\n",
    "print(b.view(-1,4))\n",
    "print(b.view(3,4))\n",
    "#Assign b a new shape\n",
    "b = b.view(1,-1)\n",
    "print(b)\n",
    "print(b.shape)\n",
    "#We can even reshape 3D tensors\n",
    "print('\\n')\n",
    "#Create a 3D Tensor with 2 channels, 3 rows and 4 columns (channles,rows,columns)\n",
    "three_dim = torch.randn(2, 3, 4)\n",
    "print('\\n')\n",
    "print(three_dim)\n",
    "print(three_dim.view(2, 12))  # Reshape to 2 rows, 12 columns\n",
    "print(three_dim.view(2, -1))"
   ]
  },
  {
   "cell_type": "code",
   "execution_count": 12,
   "id": "9e5aada6",
   "metadata": {},
   "outputs": [
    {
     "name": "stdout",
     "output_type": "stream",
     "text": [
      "tensor([[0.0524, 0.5758, 0.9112, 0.8519],\n",
      "        [0.6783, 0.9036, 0.5752, 0.3801],\n",
      "        [0.1099, 0.8351, 0.8846, 0.5059],\n",
      "        [0.6898, 0.6596, 0.1615, 0.7844]])\n",
      "tensor([[ 0.5061, -1.8419, -1.5286,  1.3946],\n",
      "        [-0.0483,  0.6908,  0.2102, -0.0650],\n",
      "        [-0.3215,  1.4048,  0.2471,  0.7032],\n",
      "        [ 0.8687,  0.5166, -1.1188, -0.8690]])\n",
      "torch.float32\n",
      "tensor([7, 6, 6, 7, 8])\n",
      "torch.int64\n",
      "tensor([[6, 7, 6],\n",
      "        [6, 7, 9],\n",
      "        [8, 6, 7]])\n",
      "5\n",
      "9\n"
     ]
    }
   ],
   "source": [
    "#Create a matrix with random numbers between 0 and 1\n",
    "r = torch.rand(4,4)\n",
    "print(r)\n",
    "\n",
    "#Create a matrix with random numbers taken from a normal distribution with mean 0 and variance 1 \n",
    "r2 = torch.randn(4,4)\n",
    "print(r2)\n",
    "print(r2.dtype)\n",
    "\n",
    "#Create an array of 5 random integers from values between 6 and 9 (exlusive of 10)\n",
    "in_array = torch.randint(6,10, (5,))\n",
    "print(in_array)\n",
    "print(in_array.dtype)\n",
    "\n",
    "#Create a 2-D array (or matrix) of size 3x3 filled with random integers from values between 6 and 9 (exlusive of 10)\n",
    "in_array2 = torch.randint(6,10, (3,3))\n",
    "print(in_array2)\n",
    "\n",
    "#Get the number of elemetns in in_array\n",
    "print(torch.numel(in_array))\n",
    "#Get the number of elemetns in in_array\n",
    "print(torch.numel(in_array2))"
   ]
  },
  {
   "cell_type": "code",
   "execution_count": 13,
   "id": "791d2132",
   "metadata": {},
   "outputs": [
    {
     "name": "stdout",
     "output_type": "stream",
     "text": [
      "tensor([[0, 0, 0],\n",
      "        [0, 0, 0],\n",
      "        [0, 0, 0]])\n",
      "tensor([[1., 1., 1.],\n",
      "        [1., 1., 1.],\n",
      "        [1., 1., 1.]])\n",
      "torch.float32\n"
     ]
    }
   ],
   "source": [
    "#Construct a 3x3 matrix of zeros and of dtype long:\n",
    "z = torch.zeros(3, 3, dtype=torch.long)\n",
    "print(z)\n",
    "#Construct a 3x3 matrix of ones\n",
    "o = torch.ones(3,3)\n",
    "print(o)\n",
    "print(o.dtype)"
   ]
  },
  {
   "cell_type": "code",
   "execution_count": 14,
   "id": "9bad6311",
   "metadata": {},
   "outputs": [
    {
     "name": "stdout",
     "output_type": "stream",
     "text": [
      "tensor([[ 1.4023,  0.0860,  0.9151,  1.1625],\n",
      "        [-1.8757,  0.4983,  0.4577, -0.1633],\n",
      "        [-0.4114, -0.9031, -1.5316,  0.1171],\n",
      "        [ 1.3866,  0.6981, -0.8364, -0.6244]], dtype=torch.float64)\n"
     ]
    }
   ],
   "source": [
    "# Convert the data type of the tensor\n",
    "r2_like = torch.randn_like(r2, dtype=torch.double)    \n",
    "print(r2_like)"
   ]
  },
  {
   "cell_type": "code",
   "execution_count": 15,
   "id": "6c59666f",
   "metadata": {},
   "outputs": [
    {
     "name": "stdout",
     "output_type": "stream",
     "text": [
      "tensor([[ 0.5585, -1.2661, -0.6174,  2.2464],\n",
      "        [ 0.6300,  1.5944,  0.7854,  0.3151],\n",
      "        [-0.2116,  2.2399,  1.1317,  1.2091],\n",
      "        [ 1.5585,  1.1763, -0.9572, -0.0845]])\n"
     ]
    }
   ],
   "source": [
    "#Add two tensors, make sure they are the same size and data type\n",
    "add_result = torch.add(r,r2)\n",
    "print(add_result)"
   ]
  },
  {
   "cell_type": "code",
   "execution_count": 16,
   "id": "1b46f20b",
   "metadata": {},
   "outputs": [
    {
     "name": "stdout",
     "output_type": "stream",
     "text": [
      "tensor([[ 0.5585, -1.2661, -0.6174,  2.2464],\n",
      "        [ 0.6300,  1.5944,  0.7854,  0.3151],\n",
      "        [-0.2116,  2.2399,  1.1317,  1.2091],\n",
      "        [ 1.5585,  1.1763, -0.9572, -0.0845]])\n"
     ]
    }
   ],
   "source": [
    "#In-place addition (change the value of r2)\n",
    "r2.add_(r)    \n",
    "print(r2)"
   ]
  },
  {
   "cell_type": "code",
   "execution_count": 17,
   "id": "71d2a938",
   "metadata": {},
   "outputs": [
    {
     "name": "stdout",
     "output_type": "stream",
     "text": [
      "tensor([-1.2661,  1.5944,  2.2399,  1.1763])\n",
      "tensor([[ 0.5585, -1.2661],\n",
      "        [ 0.6300,  1.5944],\n",
      "        [-0.2116,  2.2399],\n",
      "        [ 1.5585,  1.1763]])\n",
      "tensor([[ 0.5585, -1.2661, -0.6174,  2.2464],\n",
      "        [ 0.6300,  1.5944,  0.7854,  0.3151],\n",
      "        [-0.2116,  2.2399,  1.1317,  1.2091]])\n",
      "tensor(1.2091)\n",
      "1.209093689918518\n",
      "tensor([-0.2116,  2.2399,  1.1317,  1.2091])\n"
     ]
    }
   ],
   "source": [
    "print(r2[:,1])\n",
    "print(r2[:,:2])\n",
    "print(r2[:3,:])\n",
    "num_ten = r2[2,3]\n",
    "print(num_ten)\n",
    "print(num_ten.item())\n",
    "print(r2[2,:])"
   ]
  },
  {
   "cell_type": "markdown",
   "id": "7b42154a",
   "metadata": {},
   "source": [
    "# Numpy Bridge"
   ]
  },
  {
   "cell_type": "code",
   "execution_count": 18,
   "id": "dfd409bb",
   "metadata": {},
   "outputs": [],
   "source": [
    "import numpy as np"
   ]
  },
  {
   "cell_type": "code",
   "execution_count": 19,
   "id": "e0d9ff0e",
   "metadata": {},
   "outputs": [
    {
     "name": "stdout",
     "output_type": "stream",
     "text": [
      "tensor([1., 1., 1., 1., 1.])\n",
      "[1. 1. 1. 1. 1.]\n",
      "tensor([2., 2., 2., 2., 2.])\n",
      "[2. 2. 2. 2. 2.]\n"
     ]
    }
   ],
   "source": [
    "#Converting a Torch Tensor to a NumPy Array\n",
    "a = torch.ones(5)\n",
    "print(a)\n",
    "b = a.numpy()\n",
    "print(b)\n",
    "#See how the numpy array changed their value.\n",
    "a.add_(1)\n",
    "print(a)\n",
    "print(b)"
   ]
  },
  {
   "cell_type": "code",
   "execution_count": 20,
   "id": "434bc73f",
   "metadata": {},
   "outputs": [
    {
     "name": "stdout",
     "output_type": "stream",
     "text": [
      "[2. 2. 2. 2. 2.]\n",
      "tensor([2., 2., 2., 2., 2.], dtype=torch.float64)\n"
     ]
    }
   ],
   "source": [
    "#Converting NumPy Array to Torch Tensor\n",
    "#See how changing the np array changed the Torch Tensor automatically\n",
    "a = np.ones(5)\n",
    "b = torch.from_numpy(a)\n",
    "np.add(a, 1, out=a)\n",
    "print(a)\n",
    "print(b)"
   ]
  },
  {
   "cell_type": "code",
   "execution_count": 21,
   "id": "46ce41a3",
   "metadata": {},
   "outputs": [
    {
     "name": "stdout",
     "output_type": "stream",
     "text": [
      "True\n",
      "tensor([[ 0.5585, -1.2661, -0.6174,  2.2464],\n",
      "        [ 0.6300,  1.5944,  0.7854,  0.3151],\n",
      "        [-0.2116,  2.2399,  1.1317,  1.2091],\n",
      "        [ 1.5585,  1.1763, -0.9572, -0.0845]], device='cuda:0')\n"
     ]
    }
   ],
   "source": [
    "#Provide Easy switching between CPU and GPU\n",
    "CUDA = torch.cuda.is_available()\n",
    "print(CUDA)\n",
    "if CUDA:\n",
    "    add_result = add_result.cuda()\n",
    "    print(add_result)"
   ]
  },
  {
   "cell_type": "code",
   "execution_count": 22,
   "id": "e87b091d",
   "metadata": {},
   "outputs": [
    {
     "name": "stdout",
     "output_type": "stream",
     "text": [
      "tensor([[ 0.5585, -1.2661, -0.6174,  2.2464],\n",
      "        [ 0.6300,  1.5944,  0.7854,  0.3151],\n",
      "        [-0.2116,  2.2399,  1.1317,  1.2091],\n",
      "        [ 1.5585,  1.1763, -0.9572, -0.0845]], device='cuda:0')\n"
     ]
    }
   ],
   "source": [
    "#Move the tensor to the GPU\n",
    "r2 = r2.cuda()\n",
    "print(r2)"
   ]
  },
  {
   "cell_type": "code",
   "execution_count": 23,
   "id": "4e7c4caf",
   "metadata": {},
   "outputs": [
    {
     "name": "stdout",
     "output_type": "stream",
     "text": [
      "True\n"
     ]
    }
   ],
   "source": [
    "#check GPU availbility\n",
    "print(torch.cuda.is_available())"
   ]
  },
  {
   "cell_type": "code",
   "execution_count": 24,
   "id": "aa208d22",
   "metadata": {},
   "outputs": [
    {
     "name": "stdout",
     "output_type": "stream",
     "text": [
      "[2, 3, 4, 1]\n",
      "tensor([2, 3, 4, 1]) torch.int64\n",
      "tensor([[1., 2.],\n",
      "        [3., 4.],\n",
      "        [5., 6.],\n",
      "        [7., 8.]]) torch.float32\n"
     ]
    }
   ],
   "source": [
    "#You can also convert a list to a tensor\n",
    "a = [2,3,4,1]\n",
    "print(a)\n",
    "to_list = torch.tensor(a)\n",
    "print(to_list, to_list.dtype)\n",
    "\n",
    "data =  [[1., 2.], [3., 4.],\n",
    "         [5., 6.], [7., 8.]]\n",
    "T = torch.tensor(data)\n",
    "print(T, T.dtype)"
   ]
  },
  {
   "cell_type": "markdown",
   "id": "41ff6858",
   "metadata": {},
   "source": [
    "# Tensor Concatenation级联(cascade)"
   ]
  },
  {
   "cell_type": "code",
   "execution_count": 25,
   "id": "d1d4f45c",
   "metadata": {},
   "outputs": [
    {
     "name": "stdout",
     "output_type": "stream",
     "text": [
      "tensor([[ 0.7179, -0.3382, -0.4826, -0.4087, -0.6645],\n",
      "        [ 1.9086, -0.5087,  0.7678,  0.7565,  1.3642]])\n",
      "tensor([[ 1.3916, -1.5752,  1.1647, -0.2752, -0.0299],\n",
      "        [ 0.9772,  0.6597, -0.1390,  0.4705, -0.6328],\n",
      "        [-1.5943, -0.1398, -1.0726,  1.1649, -0.4324]])\n",
      "\n",
      "\n",
      "tensor([[ 0.7179, -0.3382, -0.4826, -0.4087, -0.6645],\n",
      "        [ 1.9086, -0.5087,  0.7678,  0.7565,  1.3642],\n",
      "        [ 1.3916, -1.5752,  1.1647, -0.2752, -0.0299],\n",
      "        [ 0.9772,  0.6597, -0.1390,  0.4705, -0.6328],\n",
      "        [-1.5943, -0.1398, -1.0726,  1.1649, -0.4324]])\n",
      "\n",
      "\n",
      "tensor([[ 0.0871, -0.1439,  2.3481],\n",
      "        [ 0.0142,  1.1119,  0.9677]])\n",
      "tensor([[ 0.4519, -1.6813,  1.8516,  0.9906,  0.1649],\n",
      "        [ 0.3567, -1.2019,  0.6856,  1.4133,  0.8712]])\n",
      "\n",
      "\n",
      "tensor([[ 0.0871, -0.1439,  2.3481,  0.4519, -1.6813,  1.8516,  0.9906,  0.1649],\n",
      "        [ 0.0142,  1.1119,  0.9677,  0.3567, -1.2019,  0.6856,  1.4133,  0.8712]])\n",
      "\n",
      "\n"
     ]
    }
   ],
   "source": [
    "#Tensor Concatenation \n",
    "first_1 = torch.randn(2, 5)\n",
    "print(first_1)\n",
    "second_1 = torch.randn(3, 5)\n",
    "print(second_1)\n",
    "#Concatenate along the 0 dimension (concatenate rows)\n",
    "con_1 = torch.cat([first_1, second_1])\n",
    "print('\\n')\n",
    "print(con_1)\n",
    "print('\\n')\n",
    "first_2 = torch.randn(2, 3)\n",
    "print(first_2)\n",
    "second_2 = torch.randn(2, 5)\n",
    "print(second_2)\n",
    "# Concatenate along the 1 dimension (concatenate columns)\n",
    "con_2 = torch.cat([first_2, second_2], 1)\n",
    "print('\\n')\n",
    "print(con_2)\n",
    "print('\\n')"
   ]
  },
  {
   "cell_type": "markdown",
   "id": "47f1c186",
   "metadata": {},
   "source": [
    "# AutoGrad"
   ]
  },
  {
   "cell_type": "code",
   "execution_count": null,
   "id": "4228bed8",
   "metadata": {},
   "outputs": [],
   "source": [
    "#Remember, If requires_grad=True, the Tensor object keeps track of how it was created.\n",
    "x = torch.tensor([1., 2., 3], requires_grad=True)\n",
    "y = torch.tensor([4., 5., 6], requires_grad=True)\n",
    "#Notice that both x and y have their required_grad set to true, therefore we an compute gradients with respect to them\n",
    "z = x + y\n",
    "print(z)\n",
    "# z knows that is was created as a result of addition of x and y. It knows that it wasn't read in from a file\n",
    "print(z.grad_fn)\n",
    "#And if we go further on this\n",
    "s = z.sum()\n",
    "print(s)\n",
    "print(s.grad_fn)"
   ]
  },
  {
   "cell_type": "code",
   "execution_count": null,
   "id": "3029f844",
   "metadata": {},
   "outputs": [],
   "source": [
    "#Now if we backpropagate on s, we can find the gradients of s with respect to x\n",
    "s.backward()\n",
    "print(x.grad)"
   ]
  },
  {
   "cell_type": "code",
   "execution_count": null,
   "id": "5982079d",
   "metadata": {},
   "outputs": [],
   "source": [
    "# By default, Tensors have `requires_grad=False`\n",
    "x = torch.randn(2, 2)\n",
    "y = torch.randn(2, 2)\n",
    "print(x.requires_grad, y.requires_grad)\n",
    "z = x + y\n",
    "# So you can't backprop through z\n",
    "print(z.grad_fn)\n",
    "#Another way to set the requires_grad = True is\n",
    "x.requires_grad_()\n",
    "y.requires_grad_()\n",
    "# z contains enough information to compute gradients, as we saw above\n",
    "z = x + y\n",
    "print(z.grad_fn)\n",
    "# If any input to an operation has ``requires_grad=True``, so will the output\n",
    "print(z.requires_grad)\n",
    "# Now z has the computation history that relates itself to x and y\n",
    "\n",
    "new_z = z.detach()\n",
    "print(new_z.grad_fn)\n",
    "# z.detach() returns a tensor that shares the same storage as ``z``, but with the computation history forgotten. \n",
    "#It doesn't know anything about how it was computed.In other words, we have broken the Tensor away from its past history\n",
    "\n",
    "#You can also stop autograd from tracking history on Tensors. This concept is useful when applying Transfer Learning \n",
    "print(x.requires_grad)\n",
    "print((x+10).requires_grad)\n",
    "\n",
    "with torch.no_grad():\n",
    "    print((x+10).requires_grad)"
   ]
  },
  {
   "cell_type": "code",
   "execution_count": null,
   "id": "dddd608c",
   "metadata": {},
   "outputs": [],
   "source": [
    "#Let's walk in through one last example\n",
    "x = torch.ones(2, 2, requires_grad=True)\n",
    "print(x)\n",
    "y = x + 2\n",
    "print(y)\n",
    "print(y.grad_fn)\n",
    "z = y * y * 3\n",
    "out = z.mean()\n",
    "print(z, out)\n",
    "out.backward()\n",
    "print(x.grad)"
   ]
  },
  {
   "cell_type": "code",
   "execution_count": null,
   "id": "5b1d5137",
   "metadata": {},
   "outputs": [],
   "source": [
    "m1 = torch.ones(5,5)\n",
    "m2 = torch.zeros(5,5)\n",
    "#Perform element-wise multiplaction \n",
    "mul = torch.mul(m1,m2)\n",
    "#Another way to perform element-wise multiplaction \n",
    "mul_another = m1*m2\n",
    "print(mul)\n",
    "print(mul_another)"
   ]
  }
 ],
 "metadata": {
  "kernelspec": {
   "display_name": "Python 3",
   "language": "python",
   "name": "python3"
  },
  "language_info": {
   "codemirror_mode": {
    "name": "ipython",
    "version": 3
   },
   "file_extension": ".py",
   "mimetype": "text/x-python",
   "name": "python",
   "nbconvert_exporter": "python",
   "pygments_lexer": "ipython3",
   "version": "3.9.5"
  }
 },
 "nbformat": 4,
 "nbformat_minor": 5
}
